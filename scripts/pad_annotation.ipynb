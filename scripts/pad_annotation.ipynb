{
 "cells": [
  {
   "cell_type": "markdown",
   "metadata": {},
   "source": [
    "# Pad label file converter\n",
    "- Date modified: 20200723_1350\n",
    "    \n"
   ]
  },
  {
   "cell_type": "code",
   "execution_count": 30,
   "metadata": {},
   "outputs": [],
   "source": [
    "### Library \n",
    "import pandas as pd\n",
    "from glob import glob\n",
    "import os\n",
    "from tqdm import tqdm"
   ]
  },
  {
   "cell_type": "code",
   "execution_count": 42,
   "metadata": {},
   "outputs": [
    {
     "name": "stderr",
     "output_type": "stream",
     "text": [
      "100%|████████████████████████████████████████████████████████████████████████████████████████████████████████████████████████████████████████████████████████████████████████████████████████████████████████████████████████████████████████████| 217/217 [00:02<00:00, 96.87it/s]\n"
     ]
    }
   ],
   "source": [
    "fpaths=glob(\"H:/Pad Detection/Dataset/Good Dataset/SMCAMTopPackage/*.txt\")\n",
    "for fpath in tqdm(fpaths):\n",
    "    with open(fpath, 'r') as f, open(\"D:/FZ_WS/JyNB/Yolo_Pad_WS/Yolo_Pad_00/scripts/label/Out/\"+os.path.basename(fpath).replace('_Label',''), 'w') as g:\n",
    "        lines = f.readlines()\n",
    "        for line in lines:\n",
    "            if (line.startswith('r')):\n",
    "                label = line.strip().upper().split(',')\n",
    "                #['R', '0', 'PAD', '923', '861', '35', '35']\n",
    "                xmax = int(label[3]) + int(label[5]) \n",
    "                ymax = int(label[4]) + int(label[6]) \n",
    "                g.write(label[3] + \",\" + label[4] + ','+str(xmax) + ',' + str(ymax) + ',' + label[2]+ '\\n')\n",
    "                \n",
    "                \n",
    "    "
   ]
  },
  {
   "cell_type": "code",
   "execution_count": 50,
   "metadata": {},
   "outputs": [
    {
     "name": "stderr",
     "output_type": "stream",
     "text": [
      "100%|███████████████████████████████████████████████████████████████████████████████████████████████████████████████████████████████████████████████████████████████████████████████████████████████████████████████████████████████████████| 1443/1443 [00:00<00:00, 32772.08it/s]\n",
      "100%|███████████████████████████████████████████████████████████████████████████████████████████████████████████████████████████████████████████████████████████████████████████████████████████████████████████████████████████████████████| 1446/1446 [00:00<00:00, 34403.14it/s]"
     ]
    },
    {
     "name": "stdout",
     "output_type": "stream",
     "text": [
      "D:/FZ_WS/JyNB/Yolo_Pad_WS/Yolo_Pad_00/scripts/label/Out\\BlackLittleBoardT_2_3_4.jpg\n",
      "D:/FZ_WS/JyNB/Yolo_Pad_WS/Yolo_Pad_00/scripts/label/Out\\BlueLongT_2_3_7.jpg\n",
      "D:/FZ_WS/JyNB/Yolo_Pad_WS/Yolo_Pad_00/scripts/label/Out\\SMCAMTop_4_4_1.jpg\n"
     ]
    },
    {
     "name": "stderr",
     "output_type": "stream",
     "text": [
      "\n"
     ]
    }
   ],
   "source": [
    "fpaths=glob('D:/FZ_WS/JyNB/Yolo_Pad_WS/Yolo_Pad_00/scripts/label/Out/*.txt')\n",
    "for fpath in tqdm(fpaths):\n",
    "    img_path = fpath.replace('.txt', '.jpg')\n",
    "    if not  (os.path.isfile(img_path)):\n",
    "        os.remove(fpath)\n",
    "        print(fpath)\n",
    "    \n",
    "fpaths=glob('D:/FZ_WS/JyNB/Yolo_Pad_WS/Yolo_Pad_00/scripts/label/Out/*.jpg')\n",
    "for fpath in tqdm(fpaths):\n",
    "    p = fpath.replace('.jpg', '.txt')\n",
    "    if not  (os.path.isfile(p)):\n",
    "        os.remove(fpath)\n",
    "        print(fpath)\n",
    "        \n",
    "    "
   ]
  },
  {
   "cell_type": "code",
   "execution_count": null,
   "metadata": {},
   "outputs": [],
   "source": []
  }
 ],
 "metadata": {
  "kernelspec": {
   "display_name": "Python 3",
   "language": "python",
   "name": "python3"
  },
  "language_info": {
   "codemirror_mode": {
    "name": "ipython",
    "version": 3
   },
   "file_extension": ".py",
   "mimetype": "text/x-python",
   "name": "python",
   "nbconvert_exporter": "python",
   "pygments_lexer": "ipython3",
   "version": "3.6.10"
  }
 },
 "nbformat": 4,
 "nbformat_minor": 4
}
