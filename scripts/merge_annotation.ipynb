{
 "cells": [
  {
   "cell_type": "markdown",
   "metadata": {},
   "source": [
    "## Text file converter\n",
    "- Created to convert the labels for a single component into a single line.\n",
    "- Last modified 20200723_1349"
   ]
  },
  {
   "cell_type": "code",
   "execution_count": 3,
   "metadata": {},
   "outputs": [],
   "source": [
    "import os, shutil\n",
    "from glob import glob\n",
    "import numpy as np\n",
    "from tqdm import tqdm\n",
    "import pandas as pd\n",
    "import random"
   ]
  },
  {
   "cell_type": "markdown",
   "metadata": {},
   "source": [
    "### Create train.csv and test.csv"
   ]
  },
  {
   "cell_type": "code",
   "execution_count": 11,
   "metadata": {},
   "outputs": [
    {
     "name": "stderr",
     "output_type": "stream",
     "text": [
      "100%|████████████████████████████████████████████████████████████████████████████████████████████████████████████████████████████████████████████████████████████████████████████████████████████████████████████████████████████████| 11526/11526 [02:05<00:00, 91.85it/s]\n"
     ]
    }
   ],
   "source": [
    "if 1:\n",
    "    # File Names\n",
    "    in_flist = glob(\"D:/FZ_WS/JyNB/Yolo_Pad_WS/Yolo_Pad_00/scripts/train/*.txt\")\n",
    "    random.shuffle(in_flist)\n",
    "    out_file='D:/FZ_WS/JyNB/Yolo_Pad_WS/Yolo_Pad_00/scripts/train.txt'\n",
    "\n",
    "\n",
    "    # Extract\n",
    "    with open(out_file, 'w') as out:\n",
    "        for txt_file in tqdm(in_flist):\n",
    "            out.write(\"./data/dataset/Exp-CD-01/data/\"+os.path.basename(txt_file).replace(\".txt\",\".jpg\")+' ')\n",
    "            #print(txt_file)\n",
    "            with open(txt_file, 'r') as f:\n",
    "                for line in f.readlines():\n",
    "                    #'x1', 'y1', 'x2', 'y2', 'class'\n",
    "                    line = line.strip() \n",
    "                    line_label = line.split(',')[:-1]\n",
    "                    out.write(\",\".join(line_label)+\" \")\n",
    "                    \n",
    "            out.write('\\n')\n",
    "            #break\n",
    "\n"
   ]
  },
  {
   "cell_type": "markdown",
   "metadata": {},
   "source": [
    "### Split in train and test dir"
   ]
  },
  {
   "cell_type": "code",
   "execution_count": 7,
   "metadata": {},
   "outputs": [
    {
     "name": "stdout",
     "output_type": "stream",
     "text": [
      "len(img_train):\t 11526\n",
      "len(img_test):\t 59\n"
     ]
    }
   ],
   "source": [
    "import sklearn.model_selection as model_selection\n",
    "\n",
    "in_imgfpaths = glob(\"D:/FZ_WS/JyNB/Yolo_Pad_WS/Yolo_Pad_00/scripts/CD1024-Dataset-A/*.jpg\")\n",
    "in_txtfpaths=[e.replace('.jpg', '.txt') for e in in_imgfpaths]\n",
    "img_train, img_test, txt_train, txt_test = model_selection.train_test_split(in_imgfpaths, in_txtfpaths, train_size=0.98,test_size=0.005, random_state=101)\n",
    "print(\"len(img_train):\\t\", len(img_train))\n",
    "print(\"len(img_test):\\t\", len(img_test))"
   ]
  },
  {
   "cell_type": "code",
   "execution_count": 8,
   "metadata": {},
   "outputs": [
    {
     "name": "stderr",
     "output_type": "stream",
     "text": [
      "100%|██████████████████████████████████████████████████████████████████████████████████████████████████████████████████████████████████████████████████████████████████████████████████████████████████████████████████████████████████████| 59/59 [00:01<00:00, 37.52it/s]\n"
     ]
    }
   ],
   "source": [
    "if 1:\n",
    "    dst = \"D:/FZ_WS/JyNB/Yolo_Pad_WS/Yolo_Pad_00/scripts/test\"\n",
    "    for i in tqdm(range(len(txt_test))):\n",
    "        shutil.copy(img_test[i], dst)\n",
    "        shutil.copy(txt_test[i], dst)"
   ]
  },
  {
   "cell_type": "code",
   "execution_count": 9,
   "metadata": {},
   "outputs": [
    {
     "name": "stderr",
     "output_type": "stream",
     "text": [
      "100%|████████████████████████████████████████████████████████████████████████████████████████████████████████████████████████████████████████████████████████████████████████████████████████████████████████████████████████████████| 11526/11526 [07:46<00:00, 24.73it/s]\n"
     ]
    }
   ],
   "source": [
    "if 1:\n",
    "    dst = \"D:/FZ_WS/JyNB/Yolo_Pad_WS/Yolo_Pad_00/scripts/train\"\n",
    "    for i in tqdm(range(len(txt_train))):\n",
    "        shutil.copy(img_train[i], dst)\n",
    "        shutil.copy(txt_train[i], dst)"
   ]
  },
  {
   "cell_type": "code",
   "execution_count": null,
   "metadata": {},
   "outputs": [],
   "source": []
  }
 ],
 "metadata": {
  "kernelspec": {
   "display_name": "Python 3",
   "language": "python",
   "name": "python3"
  },
  "language_info": {
   "codemirror_mode": {
    "name": "ipython",
    "version": 3
   },
   "file_extension": ".py",
   "mimetype": "text/x-python",
   "name": "python",
   "nbconvert_exporter": "python",
   "pygments_lexer": "ipython3",
   "version": "3.6.10"
  }
 },
 "nbformat": 4,
 "nbformat_minor": 4
}
