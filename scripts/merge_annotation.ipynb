{
 "cells": [
  {
   "cell_type": "markdown",
   "metadata": {},
   "source": [
    "## Text file converter\n",
    "- Created to convert the labels for a single component into a single line.\n",
    "- Last modified 20200723_1349"
   ]
  },
  {
   "cell_type": "code",
   "execution_count": 1,
   "metadata": {},
   "outputs": [],
   "source": [
    "import os\n",
    "from glob import glob\n",
    "import numpy as np\n",
    "from tqdm import tqdm\n",
    "import pandas as pd"
   ]
  },
  {
   "cell_type": "code",
   "execution_count": 2,
   "metadata": {},
   "outputs": [
    {
     "name": "stderr",
     "output_type": "stream",
     "text": [
      "100%|████████████████████████████████████████████████████████████████████████████████████████████████████████████████████████████████████████████████████████████████████████████████████████████████████████████████████████████████████████| 1443/1443 [00:00<00:00, 6083.93it/s]\n"
     ]
    }
   ],
   "source": [
    "# File Names\n",
    "in_flist = glob(\"D:/FZ_WS/JyNB/Yolo_Pad_WS/Yolo_Pad_00/data/dataset/Exp-01/DB_09_V03/DB_Updater/test/*.txt\")\n",
    "out_file='D:/FZ_WS/JyNB/Yolo_Pad_WS/Yolo_Pad_00/data/dataset/Exp-01/DB_09_V03/DB_Updater/test.txt'\n",
    "\n",
    "in_flist = glob(\"D:/FZ_WS/JyNB/Yolo_Pad_WS/Yolo_Pad_00/scripts/label/Out/*.txt\")\n",
    "out_file='D:/FZ_WS/JyNB/Yolo_Pad_WS/Yolo_Pad_00/scripts/label/train.txt'\n",
    "\n",
    "\n",
    "# Extract\n",
    "with open(out_file, 'w') as out:\n",
    "    for txt_file in tqdm(in_flist):\n",
    "        out.write(\"./\"+os.path.basename(txt_file)+' ')\n",
    "        with open(txt_file, 'r') as f:\n",
    "            for line in f.readlines():\n",
    "                #'x1', 'y1', 'x2', 'y2', 'class'\n",
    "                line = line.strip() \n",
    "                out.write(line+\" \")\n",
    "        out.write('\\n')\n",
    "        \n"
   ]
  },
  {
   "cell_type": "code",
   "execution_count": null,
   "metadata": {},
   "outputs": [],
   "source": []
  }
 ],
 "metadata": {
  "kernelspec": {
   "display_name": "Python 3",
   "language": "python",
   "name": "python3"
  },
  "language_info": {
   "codemirror_mode": {
    "name": "ipython",
    "version": 3
   },
   "file_extension": ".py",
   "mimetype": "text/x-python",
   "name": "python",
   "nbconvert_exporter": "python",
   "pygments_lexer": "ipython3",
   "version": "3.6.10"
  }
 },
 "nbformat": 4,
 "nbformat_minor": 4
}
