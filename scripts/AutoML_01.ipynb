{
 "cells": [
  {
   "cell_type": "markdown",
   "metadata": {},
   "source": [
    "### Google Auto ML\n",
    "- Converting current dataset to a format compatible to be trained on google auto ml"
   ]
  },
  {
   "cell_type": "code",
   "execution_count": 24,
   "metadata": {},
   "outputs": [],
   "source": [
    "### Library \n",
    "import pandas as pd\n",
    "from glob import glob\n",
    "import os, shutil\n",
    "from tqdm import tqdm\n",
    "\n",
    "\n",
    "import numpy as np\n",
    "import random\n",
    "import cv2"
   ]
  },
  {
   "cell_type": "code",
   "execution_count": 30,
   "metadata": {},
   "outputs": [
    {
     "name": "stderr",
     "output_type": "stream",
     "text": [
      "100%|███████████████████████████████████████████████████████████████████████████████████████████████████████████████████████████████████████████████████████████████████████████████████████████████████████████| 4000/4000 [01:25<00:00, 46.69it/s]\n"
     ]
    }
   ],
   "source": [
    "txt_files = random.sample(glob(\"D:/FZ_WS/JyNB/Yolo_Pad_WS/Yolo_Pad_00/data/dataset/Exp-05/data/*.txt\"), 4000)\n",
    "gs_path = \"gs://fz2020_automl_bucket_us/Automl_Dataset01/img\"\n",
    "out_fname = \"D:/FZ_WS/JyNB/Yolo_Pad_WS/Yolo_Pad_00/data/dataset/Exp-05/data-automl/Automl_Dataset01/train.txt\"\n",
    "with open(out_fname, 'w') as out:\n",
    "    for txt_file in tqdm(txt_files):\n",
    "        img_file = txt_file.replace(\".txt\", \".jpg\")\n",
    "        img_name=os.path.basename(img_file)\n",
    "        img = cv2.imread(img_file)\n",
    "        h, w, _ = img.shape\n",
    "        shutil.copy(img_file, \"D:/FZ_WS/JyNB/Yolo_Pad_WS/Yolo_Pad_00/data/dataset/Exp-05/data-automl/Automl_Dataset01/img/train\")\n",
    "        \n",
    "        \n",
    "        with open(txt_file, 'r') as f:\n",
    "            # [set,]image_path[,label,x1,y1,,,x2,y2,,]\n",
    "            # TRAIN,gs://My_Bucket/sample1.jpg,cat,0.125,0.25,,,0.375,0.5,,\n",
    "            # VALIDATE,gs://My_Bucket/sample1.jpg,cat,0.4,0.3,,,0.55,0.55,,\n",
    "            # TEST,gs://My_Bucket/sample1.jpg,dog,0.5,0.675,,,0.75,0.875,,\n",
    "            # [set,]image_path[,label,x1,y1,x2,y1,x2,y2,x1,y2]\n",
    "            # TRAIN,gs://My_Bucket/sample2.jpg,dog,0.56,0.25,0.97,0.25,0.97,0.50,0.56,0.50\n",
    "            \n",
    "            lines = f.readlines()\n",
    "            for line in lines:\n",
    "                elements = line.strip().split(\",\")\n",
    "                out.write(\"TRAIN,{},PAD,{},{},,,{},{},,\\n\".format(gs_path+\"/\"+img_name,\\\n",
    "                                                                 float(elements[0])/w,\\\n",
    "                                                                 float(elements[1])/h,\\\n",
    "                                                                 float(elements[2])/w,\\\n",
    "                                                                 float(elements[3])/h) )\n",
    "        #break"
   ]
  },
  {
   "cell_type": "code",
   "execution_count": null,
   "metadata": {},
   "outputs": [],
   "source": []
  }
 ],
 "metadata": {
  "kernelspec": {
   "display_name": "Python 3",
   "language": "python",
   "name": "python3"
  },
  "language_info": {
   "codemirror_mode": {
    "name": "ipython",
    "version": 3
   },
   "file_extension": ".py",
   "mimetype": "text/x-python",
   "name": "python",
   "nbconvert_exporter": "python",
   "pygments_lexer": "ipython3",
   "version": "3.6.10"
  }
 },
 "nbformat": 4,
 "nbformat_minor": 4
}
